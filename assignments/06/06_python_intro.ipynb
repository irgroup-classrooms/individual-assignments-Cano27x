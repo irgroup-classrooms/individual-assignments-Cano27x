{
 "cells": [
  {
   "cell_type": "markdown",
   "metadata": {},
   "source": [
    "# DIS08 / OR92 Data Modeling: Python - Introduction (Setup, file management, etc.)"
   ]
  },
  {
   "cell_type": "markdown",
   "metadata": {},
   "source": [
    "In this lecture, we’ll cover and recap the basics of Python programming, including:\n",
    "\n",
    "- Python data structures: lists, tuples, dictionaries, and sets.\n",
    "- Basic file management: reading from and writing to files.\n",
    "- String handling: manipulation of text data and regular expressions.\n",
    "\n",
    "In the lab assignments, you will setup your Python development environment, rerun this notebook, and get started with the `pandas` library.\n",
    "\n",
    "If you would like to study Python more in-depth, we recommend the book [Automate the Boring Stuff With Python](https://automatetheboringstuff.com/). This book also inspired some of the contents in this notebook."
   ]
  },
  {
   "cell_type": "markdown",
   "metadata": {},
   "source": [
    "1. Basic Syntax"
   ]
  },
  {
   "cell_type": "code",
   "execution_count": null,
   "metadata": {},
   "outputs": [],
   "source": [
    "# This is a comment in Python"
   ]
  },
  {
   "cell_type": "code",
   "execution_count": null,
   "metadata": {},
   "outputs": [],
   "source": [
    "# Print \"Hello, World!\" to the console\n",
    "print(\"Hello, World!\")  "
   ]
  },
  {
   "cell_type": "code",
   "execution_count": null,
   "metadata": {},
   "outputs": [],
   "source": [
    "# Variable assignment\n",
    "x = 5  \n",
    "x"
   ]
  },
  {
   "cell_type": "markdown",
   "metadata": {},
   "source": [
    "2. Data Types"
   ]
  },
  {
   "cell_type": "code",
   "execution_count": null,
   "metadata": {},
   "outputs": [],
   "source": [
    "# Integer type\n",
    "integer_num = 10\n",
    "type(integer_num)"
   ]
  },
  {
   "cell_type": "code",
   "execution_count": null,
   "metadata": {},
   "outputs": [],
   "source": [
    "# Float type\n",
    "float_num = 3.14\n",
    "type(float_num)"
   ]
  },
  {
   "cell_type": "code",
   "execution_count": null,
   "metadata": {},
   "outputs": [],
   "source": [
    "# String type\n",
    "str_val = \"Python\"\n",
    "type(str_val)"
   ]
  },
  {
   "cell_type": "markdown",
   "metadata": {},
   "source": [
    "3. Basic Operators"
   ]
  },
  {
   "cell_type": "code",
   "execution_count": null,
   "metadata": {},
   "outputs": [],
   "source": [
    "a = 10\n",
    "b = 3"
   ]
  },
  {
   "cell_type": "code",
   "execution_count": null,
   "metadata": {},
   "outputs": [],
   "source": [
    "# Addition\n",
    "print(a + b)"
   ]
  },
  {
   "cell_type": "code",
   "execution_count": null,
   "metadata": {},
   "outputs": [],
   "source": [
    "# Subtraction\n",
    "print(a - b)"
   ]
  },
  {
   "cell_type": "code",
   "execution_count": null,
   "metadata": {},
   "outputs": [],
   "source": [
    "# Multiplication\n",
    "print(a * b)"
   ]
  },
  {
   "cell_type": "code",
   "execution_count": null,
   "metadata": {},
   "outputs": [],
   "source": [
    "# Division\n",
    "print(a / b)"
   ]
  },
  {
   "cell_type": "code",
   "execution_count": null,
   "metadata": {},
   "outputs": [],
   "source": [
    "# Modulus (remainder)\n",
    "print(a % b)"
   ]
  },
  {
   "cell_type": "code",
   "execution_count": null,
   "metadata": {},
   "outputs": [],
   "source": [
    "# Exponentiation\n",
    "print(a ** b)"
   ]
  },
  {
   "cell_type": "markdown",
   "metadata": {},
   "source": [
    "4. Control Structures"
   ]
  },
  {
   "cell_type": "code",
   "execution_count": null,
   "metadata": {},
   "outputs": [],
   "source": [
    "# If-Else statement\n",
    "x = 5\n",
    "if x > 0:\n",
    "    print(\"Positive\")\n",
    "elif x < 0:\n",
    "    print(\"Negative\")\n",
    "else:\n",
    "    print(\"Zero\")\n"
   ]
  },
  {
   "cell_type": "code",
   "execution_count": null,
   "metadata": {},
   "outputs": [],
   "source": [
    "# For loop\n",
    "for i in range(5):\n",
    "    print(i)"
   ]
  },
  {
   "cell_type": "code",
   "execution_count": null,
   "metadata": {},
   "outputs": [],
   "source": [
    "# While loop\n",
    "i = 0\n",
    "while i < 5:\n",
    "    print(i)\n",
    "    i += 1"
   ]
  },
  {
   "cell_type": "markdown",
   "metadata": {},
   "source": [
    "## Data Structures"
   ]
  },
  {
   "cell_type": "code",
   "execution_count": null,
   "metadata": {},
   "outputs": [],
   "source": [
    "# List\n",
    "my_list = [1, 2, 3, 4, 5]\n",
    "print(my_list[0])  # Accessing elements\n",
    "\n",
    "# Tuple (immutable list)\n",
    "my_tuple = (6, 7, 8)\n",
    "print(my_tuple[0])\n",
    "\n",
    "# Dictionary (key-value pairs)\n",
    "my_dict = {\"name\": \"John\", \"age\": 30, \"city\": \"New York\"}\n",
    "print(my_dict[\"name\"])\n",
    "\n",
    "# Set\n",
    "my_set = {\"apple\", \"banana\", \"cherry\"}\n",
    "print(my_set)\n",
    "\n"
   ]
  },
  {
   "cell_type": "markdown",
   "metadata": {},
   "source": [
    "A list is a collection which is ordered and changeable. It allows duplicate members."
   ]
  },
  {
   "cell_type": "code",
   "execution_count": null,
   "metadata": {},
   "outputs": [],
   "source": [
    "# Creating a list\n",
    "fruits = [\"apple\", \"banana\", \"cherry\"]\n",
    "print(fruits)\n",
    "\n",
    "# Adding an item\n",
    "fruits.append(\"orange\")\n",
    "print(fruits)\n",
    "\n",
    "# Accessing items\n",
    "print(fruits[1])\n",
    "\n",
    "# Removing an item\n",
    "fruits.remove(\"banana\")\n",
    "print(fruits)"
   ]
  },
  {
   "cell_type": "markdown",
   "metadata": {},
   "source": [
    "A tuple is a collection which is ordered but unchangeable (immutable). It allows duplicate members."
   ]
  },
  {
   "cell_type": "code",
   "execution_count": null,
   "metadata": {},
   "outputs": [],
   "source": [
    "# Creating a tuple\n",
    "my_tuple = (\"apple\", \"banana\", \"cherry\")\n",
    "print(my_tuple)\n",
    "\n",
    "# Accessing items\n",
    "print(my_tuple[1])\n",
    "\n",
    "# Tuples are immutable, so the following code will cause an error:\n",
    "# my_tuple[1] = \"orange\""
   ]
  },
  {
   "cell_type": "markdown",
   "metadata": {},
   "source": [
    "A dictionary is a collection which is unordered, changeable, and indexed. It does not allow duplicates."
   ]
  },
  {
   "cell_type": "code",
   "execution_count": null,
   "metadata": {},
   "outputs": [],
   "source": [
    "# Creating a dictionary\n",
    "person = {\n",
    "    \"name\": \"Alice\",\n",
    "    \"age\": 25,\n",
    "    \"city\": \"New York\"\n",
    "}\n",
    "print(person)\n",
    "\n",
    "# Accessing values\n",
    "print(person[\"name\"])\n",
    "\n",
    "# Modifying a value\n",
    "person[\"age\"] = 26\n",
    "print(person)"
   ]
  },
  {
   "cell_type": "markdown",
   "metadata": {},
   "source": [
    "6. Functions"
   ]
  },
  {
   "cell_type": "code",
   "execution_count": null,
   "metadata": {},
   "outputs": [],
   "source": [
    "def greet(name):\n",
    "    \"\"\"This function greets the person passed in as parameter\"\"\"\n",
    "    print(f\"Hello, {name}!\")\n",
    "\n",
    "greet(\"Alice\")  # Output: Hello, Alice!"
   ]
  },
  {
   "cell_type": "markdown",
   "metadata": {},
   "source": [
    "A set is a collection which is unordered, unindexed, and does not allow duplicate members."
   ]
  },
  {
   "cell_type": "code",
   "execution_count": null,
   "metadata": {},
   "outputs": [],
   "source": [
    "# Creating a set\n",
    "my_set = {\"apple\", \"banana\", \"cherry\"}\n",
    "print(my_set)\n",
    "\n",
    "# Adding an item\n",
    "my_set.add(\"orange\")\n",
    "print(my_set)\n",
    "\n",
    "# Removing an item\n",
    "my_set.remove(\"banana\")\n",
    "print(my_set)"
   ]
  },
  {
   "cell_type": "markdown",
   "metadata": {},
   "source": [
    "## Basic File Management in Python"
   ]
  },
  {
   "cell_type": "markdown",
   "metadata": {},
   "source": [
    "You can also use many command line tools in a Jupyter notebook. We use `echo` to create a first text file."
   ]
  },
  {
   "cell_type": "code",
   "execution_count": null,
   "metadata": {},
   "outputs": [],
   "source": [
    "!echo \"This is the beginning of a new file!\\n\" >> example.txt"
   ]
  },
  {
   "cell_type": "markdown",
   "metadata": {},
   "source": [
    "To read a file, use the open() function in reading mode ('r')."
   ]
  },
  {
   "cell_type": "code",
   "execution_count": null,
   "metadata": {},
   "outputs": [],
   "source": [
    "# Reading from a file\n",
    "file = open(\"example.txt\", \"r\")\n",
    "\n",
    "# Read the entire content of the file\n",
    "content = file.read()\n",
    "print(content)\n",
    "\n",
    "# Always remember to close the file after you're done\n",
    "file.close()"
   ]
  },
  {
   "cell_type": "markdown",
   "metadata": {},
   "source": [
    "To write to a file, use the open() function in write mode ('w')."
   ]
  },
  {
   "cell_type": "code",
   "execution_count": null,
   "metadata": {},
   "outputs": [],
   "source": [
    "# Writing to a file\n",
    "file = open(\"example.txt\", \"w\")\n",
    "file.write(\"Hello, World!\\nThis is a new line.\")\n",
    "file.close()"
   ]
  },
  {
   "cell_type": "markdown",
   "metadata": {},
   "source": [
    "You can also append data to an existing file using append mode ('a')."
   ]
  },
  {
   "cell_type": "code",
   "execution_count": null,
   "metadata": {},
   "outputs": [],
   "source": [
    "# Appending to a file\n",
    "file = open(\"example.txt\", \"a\")\n",
    "file.write(\"\\nThis is an appended line.\")\n",
    "file.close()"
   ]
  },
  {
   "cell_type": "markdown",
   "metadata": {},
   "source": [
    "It’s a good practice to use the `with` statement when working with files to ensure the file is properly closed after the operations."
   ]
  },
  {
   "cell_type": "code",
   "execution_count": null,
   "metadata": {},
   "outputs": [],
   "source": [
    "# Using 'with' statement to open and read a file\n",
    "with open(\"example.txt\", \"r\") as file:\n",
    "    content = file.read()\n",
    "    print(content)"
   ]
  },
  {
   "cell_type": "markdown",
   "metadata": {},
   "source": [
    "## String Handling in Python"
   ]
  },
  {
   "cell_type": "markdown",
   "metadata": {},
   "source": [
    "Python provides a variety of methods for manipulating and handling strings."
   ]
  },
  {
   "cell_type": "code",
   "execution_count": null,
   "metadata": {},
   "outputs": [],
   "source": [
    "# Concatenating strings\n",
    "greeting = \"Hello\"\n",
    "name = \"Alice\"\n",
    "message = greeting + \", \" + name + \"!\"\n",
    "print(message)"
   ]
  },
  {
   "cell_type": "markdown",
   "metadata": {},
   "source": [
    "**String Formatting:** You can format strings using the format() method or f-strings (in Python 3.6+)."
   ]
  },
  {
   "cell_type": "code",
   "execution_count": null,
   "metadata": {},
   "outputs": [],
   "source": [
    "# Using format method\n",
    "message = \"Hello, {}!\".format(name)\n",
    "print(message)\n",
    "\n",
    "# Using f-strings (Python 3.6+)\n",
    "message = f\"Hello, {name}!\"\n",
    "print(message)"
   ]
  },
  {
   "cell_type": "markdown",
   "metadata": {},
   "source": [
    "**String Methods:** Some common string methods in Python include upper(), lower(), replace(), and split()."
   ]
  },
  {
   "cell_type": "code",
   "execution_count": null,
   "metadata": {},
   "outputs": [],
   "source": [
    "# Changing case\n",
    "text = \"Hello, World!\"\n",
    "print(text.upper())\n",
    "print(text.lower())\n",
    "\n",
    "# Replacing parts of a string\n",
    "print(text.replace(\"World\", \"Python\"))\n",
    "\n",
    "# Splitting a string\n",
    "words = text.split(\", \")\n",
    "print(words)"
   ]
  },
  {
   "cell_type": "markdown",
   "metadata": {},
   "source": [
    "**Regular expressions:** The re.search() function searches for a match in a string."
   ]
  },
  {
   "cell_type": "code",
   "execution_count": null,
   "metadata": {},
   "outputs": [],
   "source": [
    "import re\n",
    "\n",
    "# Search for the word 'Python' in a string\n",
    "text = \"Welcome to Python programming!\"\n",
    "pattern = \"Python\"\n",
    "\n",
    "# Search for the pattern\n",
    "match = re.search(pattern, text)\n",
    "\n",
    "# The re.search() function looks for the word “Python” in the text. If found, it returns a match object, otherwise None.\n",
    "if match:\n",
    "    print(\"Match found!\")\n",
    "else:\n",
    "    print(\"No match.\")"
   ]
  },
  {
   "cell_type": "markdown",
   "metadata": {},
   "source": [
    "## Quiz time!"
   ]
  },
  {
   "cell_type": "markdown",
   "metadata": {},
   "source": [
    "**Question:** What will be the output of the following code?"
   ]
  },
  {
   "cell_type": "code",
   "execution_count": null,
   "metadata": {},
   "outputs": [],
   "source": [
    "fruits = [\"apple\", \"banana\", \"cherry\"]\n",
    "fruits.append(\"orange\")\n",
    "print(fruits[1])"
   ]
  },
  {
   "cell_type": "markdown",
   "metadata": {},
   "source": [
    "A) \"apple\"  \n",
    "B) \"banana\"  \n",
    "C) \"cherry\"  \n",
    "D) [\"apple\", \"banana\", \"cherry\", \"orange\"]"
   ]
  },
  {
   "cell_type": "markdown",
   "metadata": {},
   "source": [
    "**Question:** What error will the following code produce?"
   ]
  },
  {
   "cell_type": "code",
   "execution_count": null,
   "metadata": {},
   "outputs": [],
   "source": [
    "colors = (\"red\", \"green\", \"blue\")\n",
    "colors[1] = \"yellow\""
   ]
  },
  {
   "cell_type": "markdown",
   "metadata": {},
   "source": [
    "A) TypeError: 'tuple' object does not support item assignment  \n",
    "B) IndexError: tuple index out of range  \n",
    "C) No error, it works fine  \n",
    "D) AttributeError: 'tuple' object has no attribute 'append'"
   ]
  },
  {
   "cell_type": "markdown",
   "metadata": {},
   "source": [
    "**Question:** What will be the value of car[\"year\"] after running the following code?"
   ]
  },
  {
   "cell_type": "code",
   "execution_count": null,
   "metadata": {},
   "outputs": [],
   "source": [
    "car = {\n",
    "    \"brand\": \"Ford\",\n",
    "    \"model\": \"Mustang\",\n",
    "    \"year\": 1964\n",
    "}\n",
    "car[\"year\"] = 2022\n",
    "print(car[\"year\"])"
   ]
  },
  {
   "cell_type": "markdown",
   "metadata": {},
   "source": [
    "A) 1964  \n",
    "B) 2022  \n",
    "C) None  \n",
    "D) KeyError: 'year'"
   ]
  },
  {
   "cell_type": "markdown",
   "metadata": {},
   "source": [
    "**Question:** What will happen if the following code is executed, and example.txt doesn’t exist in the directory?"
   ]
  },
  {
   "cell_type": "code",
   "execution_count": null,
   "metadata": {},
   "outputs": [],
   "source": [
    "with open(\"example.txt\", \"r\") as file:\n",
    "    content = file.read()\n",
    "    print(content)"
   ]
  },
  {
   "cell_type": "markdown",
   "metadata": {},
   "source": [
    "A) It will create a new file named example.txt.  \n",
    "B) It will throw a FileNotFoundError.  \n",
    "C) It will print an empty string.  \n",
    "D) It will print None.  "
   ]
  },
  {
   "cell_type": "markdown",
   "metadata": {},
   "source": [
    "**Question:** What will be the value of message in the following code?"
   ]
  },
  {
   "cell_type": "code",
   "execution_count": null,
   "metadata": {},
   "outputs": [],
   "source": [
    "name = \"Alice\"\n",
    "greeting = \"Hello\"\n",
    "message = greeting + \", \" + name + \"!\"\n",
    "print(message)"
   ]
  },
  {
   "cell_type": "markdown",
   "metadata": {},
   "source": [
    "A) \"Hello Alice\"  \n",
    "B) \"Hello, Alice!\"  \n",
    "C) \"Hello Alice!\"  \n",
    "D) \", Alice!\""
   ]
  },
  {
   "cell_type": "markdown",
   "metadata": {},
   "source": [
    "**Question:** What will the following code output?"
   ]
  },
  {
   "cell_type": "code",
   "execution_count": null,
   "metadata": {},
   "outputs": [],
   "source": [
    "text = \"Welcome to Python\"\n",
    "print(text.upper())"
   ]
  },
  {
   "cell_type": "markdown",
   "metadata": {},
   "source": [
    "A) WELCOME TO PYTHON  \n",
    "B) welcome to python  \n",
    "C) Welcome To Python  \n",
    "D) Welcome to python"
   ]
  },
  {
   "cell_type": "markdown",
   "metadata": {},
   "source": [
    "**Question:** What happens if you try to add a duplicate item to a set?"
   ]
  },
  {
   "cell_type": "code",
   "execution_count": null,
   "metadata": {},
   "outputs": [],
   "source": [
    "my_set = {\"apple\", \"banana\", \"cherry\"}\n",
    "my_set.add(\"banana\")\n",
    "print(my_set)"
   ]
  },
  {
   "cell_type": "markdown",
   "metadata": {},
   "source": [
    "A) The set will now contain two \"banana\" items.  \n",
    "B) The set will raise an error.  \n",
    "C) The set will remain unchanged.   \n",
    "D) The set will reorder itself."
   ]
  },
  {
   "cell_type": "markdown",
   "metadata": {},
   "source": [
    "**Question:** What is the correct way to format a string using f-strings in the following code?"
   ]
  },
  {
   "cell_type": "code",
   "execution_count": null,
   "metadata": {},
   "outputs": [],
   "source": [
    "name = \"Alice\"\n",
    "age = 25\n",
    "message = f\"My name is ... and I am ... years old.\"\n",
    "print(message)"
   ]
  },
  {
   "cell_type": "markdown",
   "metadata": {},
   "source": [
    "A) f\"My name is {name} and I am {age} years old.\"  \n",
    "B) f\"My name is name and I am age years old.\"  \n",
    "C) \"My name is {name} and I am {age} years old.\"  \n",
    "D) \"My name is name and I am age years old.\""
   ]
  },
  {
   "cell_type": "markdown",
   "metadata": {},
   "source": [
    "**Question:** What will be the output of the following code?"
   ]
  },
  {
   "cell_type": "code",
   "execution_count": null,
   "metadata": {},
   "outputs": [],
   "source": [
    "numbers = [10, 20, 30, 40, 50]\n",
    "print(numbers[-2])"
   ]
  },
  {
   "cell_type": "markdown",
   "metadata": {},
   "source": [
    "A) 20  \n",
    "B) 40  \n",
    "C) 30  \n",
    "D) 50\n"
   ]
  },
  {
   "cell_type": "markdown",
   "metadata": {},
   "source": [
    "**Question:** What will the following code output?"
   ]
  },
  {
   "cell_type": "code",
   "execution_count": null,
   "metadata": {},
   "outputs": [],
   "source": [
    "person = {\n",
    "    \"name\": \"John\",\n",
    "    \"age\": 30\n",
    "}\n",
    "print(\"height\" in person)"
   ]
  },
  {
   "cell_type": "markdown",
   "metadata": {},
   "source": [
    "A) True  \n",
    "B) False  \n",
    "C) None  \n",
    "D) KeyError: 'height'"
   ]
  },
  {
   "cell_type": "markdown",
   "metadata": {},
   "source": [
    "## Lab Assignments\n",
    "\n",
    "Download this notebook from Moodle and rerun the examples from today's lecture. If you can execute all of the code cells above you are done! The setup guide below will help you to get started!\n",
    "\n",
    "Once, you have setup your Python/Jupyter environment, please do the following task:\n",
    "\n",
    "- Download this [dataset](https://librarycarpentry.org/lc-python-intro/files/data.zip) and extract it (do not commit it to this repository).\n",
    "- Get familiar with the [pandas](https://pandas.pydata.org/) library and install it in your Python environment.\n",
    "- Load one or more of the CSV files in the data/ directory as a DataFrame.\n",
    "- Use the functions `info()`, `head()`, `tail()`, `describe()`, and the variable `columns` to get some basic information about the data. Also document and describe the outputs.\n",
    "- How do you get the first/last ten rows of the DataFrame?\n",
    "- How do you get the rows between row 30 and row 40?\n",
    "- How do you get a specific column, e.g., 'year'? What kind of `type()` has the column?\n",
    "- What is the `*.pkl` file? How do load it into your program and what are the data contents in it?\n",
    "- What is the purpose of `.loc()` and `.iloc()`?\n",
    "- How do you sort values in a column?\n",
    "\n",
    "When you have completed the tasks, please commit this notebook to your GitHub repository in the directory `assignments/06/`.\n"
   ]
  },
  {
   "cell_type": "code",
   "execution_count": 73,
   "metadata": {},
   "outputs": [
    {
     "data": {
      "text/html": [
       "<div>\n",
       "<style scoped>\n",
       "    .dataframe tbody tr th:only-of-type {\n",
       "        vertical-align: middle;\n",
       "    }\n",
       "\n",
       "    .dataframe tbody tr th {\n",
       "        vertical-align: top;\n",
       "    }\n",
       "\n",
       "    .dataframe thead th {\n",
       "        text-align: right;\n",
       "    }\n",
       "</style>\n",
       "<table border=\"1\" class=\"dataframe\">\n",
       "  <thead>\n",
       "    <tr style=\"text-align: right;\">\n",
       "      <th></th>\n",
       "      <th>branch</th>\n",
       "      <th>address</th>\n",
       "      <th>city</th>\n",
       "      <th>zip code</th>\n",
       "      <th>january</th>\n",
       "      <th>february</th>\n",
       "      <th>march</th>\n",
       "      <th>april</th>\n",
       "      <th>may</th>\n",
       "      <th>june</th>\n",
       "      <th>july</th>\n",
       "      <th>august</th>\n",
       "      <th>september</th>\n",
       "      <th>october</th>\n",
       "      <th>november</th>\n",
       "      <th>december</th>\n",
       "      <th>ytd</th>\n",
       "    </tr>\n",
       "  </thead>\n",
       "  <tbody>\n",
       "    <tr>\n",
       "      <th>0</th>\n",
       "      <td>Albany Park</td>\n",
       "      <td>5150 N. Kimball Ave.</td>\n",
       "      <td>Chicago</td>\n",
       "      <td>60625.0</td>\n",
       "      <td>8427</td>\n",
       "      <td>7023</td>\n",
       "      <td>9702</td>\n",
       "      <td>9344</td>\n",
       "      <td>8865</td>\n",
       "      <td>11650</td>\n",
       "      <td>11778</td>\n",
       "      <td>11306</td>\n",
       "      <td>10466</td>\n",
       "      <td>10997</td>\n",
       "      <td>10567</td>\n",
       "      <td>9934</td>\n",
       "      <td>120059</td>\n",
       "    </tr>\n",
       "    <tr>\n",
       "      <th>1</th>\n",
       "      <td>Altgeld</td>\n",
       "      <td>13281 S. Corliss Ave.</td>\n",
       "      <td>Chicago</td>\n",
       "      <td>60827.0</td>\n",
       "      <td>1258</td>\n",
       "      <td>708</td>\n",
       "      <td>854</td>\n",
       "      <td>804</td>\n",
       "      <td>816</td>\n",
       "      <td>870</td>\n",
       "      <td>713</td>\n",
       "      <td>480</td>\n",
       "      <td>702</td>\n",
       "      <td>927</td>\n",
       "      <td>787</td>\n",
       "      <td>692</td>\n",
       "      <td>9611</td>\n",
       "    </tr>\n",
       "    <tr>\n",
       "      <th>2</th>\n",
       "      <td>Archer Heights</td>\n",
       "      <td>5055 S. Archer Ave.</td>\n",
       "      <td>Chicago</td>\n",
       "      <td>60632.0</td>\n",
       "      <td>8104</td>\n",
       "      <td>6899</td>\n",
       "      <td>9329</td>\n",
       "      <td>9124</td>\n",
       "      <td>7472</td>\n",
       "      <td>8314</td>\n",
       "      <td>8116</td>\n",
       "      <td>9177</td>\n",
       "      <td>9033</td>\n",
       "      <td>9709</td>\n",
       "      <td>8809</td>\n",
       "      <td>7865</td>\n",
       "      <td>101951</td>\n",
       "    </tr>\n",
       "    <tr>\n",
       "      <th>3</th>\n",
       "      <td>Austin</td>\n",
       "      <td>5615 W. Race Ave.</td>\n",
       "      <td>Chicago</td>\n",
       "      <td>60644.0</td>\n",
       "      <td>1755</td>\n",
       "      <td>1316</td>\n",
       "      <td>1942</td>\n",
       "      <td>2200</td>\n",
       "      <td>2133</td>\n",
       "      <td>2359</td>\n",
       "      <td>2080</td>\n",
       "      <td>2405</td>\n",
       "      <td>2417</td>\n",
       "      <td>2571</td>\n",
       "      <td>2233</td>\n",
       "      <td>2116</td>\n",
       "      <td>25527</td>\n",
       "    </tr>\n",
       "    <tr>\n",
       "      <th>4</th>\n",
       "      <td>Austin-Irving</td>\n",
       "      <td>6100 W. Irving Park Rd.</td>\n",
       "      <td>Chicago</td>\n",
       "      <td>60634.0</td>\n",
       "      <td>12593</td>\n",
       "      <td>11791</td>\n",
       "      <td>14807</td>\n",
       "      <td>14382</td>\n",
       "      <td>11754</td>\n",
       "      <td>14402</td>\n",
       "      <td>14605</td>\n",
       "      <td>15164</td>\n",
       "      <td>14306</td>\n",
       "      <td>15357</td>\n",
       "      <td>14069</td>\n",
       "      <td>12404</td>\n",
       "      <td>165634</td>\n",
       "    </tr>\n",
       "    <tr>\n",
       "      <th>...</th>\n",
       "      <td>...</td>\n",
       "      <td>...</td>\n",
       "      <td>...</td>\n",
       "      <td>...</td>\n",
       "      <td>...</td>\n",
       "      <td>...</td>\n",
       "      <td>...</td>\n",
       "      <td>...</td>\n",
       "      <td>...</td>\n",
       "      <td>...</td>\n",
       "      <td>...</td>\n",
       "      <td>...</td>\n",
       "      <td>...</td>\n",
       "      <td>...</td>\n",
       "      <td>...</td>\n",
       "      <td>...</td>\n",
       "      <td>...</td>\n",
       "    </tr>\n",
       "    <tr>\n",
       "      <th>75</th>\n",
       "      <td>West Pullman</td>\n",
       "      <td>830 W. 119th St.</td>\n",
       "      <td>Chicago</td>\n",
       "      <td>60643.0</td>\n",
       "      <td>3312</td>\n",
       "      <td>2713</td>\n",
       "      <td>3495</td>\n",
       "      <td>3550</td>\n",
       "      <td>3010</td>\n",
       "      <td>2968</td>\n",
       "      <td>3844</td>\n",
       "      <td>3811</td>\n",
       "      <td>3209</td>\n",
       "      <td>3923</td>\n",
       "      <td>3162</td>\n",
       "      <td>3147</td>\n",
       "      <td>40144</td>\n",
       "    </tr>\n",
       "    <tr>\n",
       "      <th>76</th>\n",
       "      <td>West Town</td>\n",
       "      <td>1625 W. Chicago Ave.</td>\n",
       "      <td>Chicago</td>\n",
       "      <td>60622.0</td>\n",
       "      <td>9030</td>\n",
       "      <td>7727</td>\n",
       "      <td>10450</td>\n",
       "      <td>10607</td>\n",
       "      <td>10139</td>\n",
       "      <td>10410</td>\n",
       "      <td>10601</td>\n",
       "      <td>11311</td>\n",
       "      <td>11084</td>\n",
       "      <td>10657</td>\n",
       "      <td>10797</td>\n",
       "      <td>9275</td>\n",
       "      <td>122088</td>\n",
       "    </tr>\n",
       "    <tr>\n",
       "      <th>77</th>\n",
       "      <td>Whitney M. Young, Jr.</td>\n",
       "      <td>7901 S. King Dr.</td>\n",
       "      <td>Chicago</td>\n",
       "      <td>60619.0</td>\n",
       "      <td>2588</td>\n",
       "      <td>2033</td>\n",
       "      <td>3099</td>\n",
       "      <td>3087</td>\n",
       "      <td>3005</td>\n",
       "      <td>2911</td>\n",
       "      <td>3123</td>\n",
       "      <td>3644</td>\n",
       "      <td>3547</td>\n",
       "      <td>3848</td>\n",
       "      <td>3324</td>\n",
       "      <td>3190</td>\n",
       "      <td>37399</td>\n",
       "    </tr>\n",
       "    <tr>\n",
       "      <th>78</th>\n",
       "      <td>Woodson Regional</td>\n",
       "      <td>9525 S. Halsted St.</td>\n",
       "      <td>Chicago</td>\n",
       "      <td>60628.0</td>\n",
       "      <td>10564</td>\n",
       "      <td>8874</td>\n",
       "      <td>10948</td>\n",
       "      <td>9299</td>\n",
       "      <td>9025</td>\n",
       "      <td>10020</td>\n",
       "      <td>10366</td>\n",
       "      <td>10892</td>\n",
       "      <td>10901</td>\n",
       "      <td>13272</td>\n",
       "      <td>11421</td>\n",
       "      <td>9474</td>\n",
       "      <td>125056</td>\n",
       "    </tr>\n",
       "    <tr>\n",
       "      <th>79</th>\n",
       "      <td>Wrightwood-Ashburn</td>\n",
       "      <td>8530 S. Kedzie Ave.</td>\n",
       "      <td>Chicago</td>\n",
       "      <td>60652.0</td>\n",
       "      <td>3062</td>\n",
       "      <td>2780</td>\n",
       "      <td>3334</td>\n",
       "      <td>3279</td>\n",
       "      <td>3036</td>\n",
       "      <td>3801</td>\n",
       "      <td>4600</td>\n",
       "      <td>3953</td>\n",
       "      <td>3536</td>\n",
       "      <td>4093</td>\n",
       "      <td>3583</td>\n",
       "      <td>3200</td>\n",
       "      <td>42257</td>\n",
       "    </tr>\n",
       "  </tbody>\n",
       "</table>\n",
       "<p>80 rows × 17 columns</p>\n",
       "</div>"
      ],
      "text/plain": [
       "                   branch                  address     city  zip code  \\\n",
       "0             Albany Park     5150 N. Kimball Ave.  Chicago   60625.0   \n",
       "1                 Altgeld    13281 S. Corliss Ave.  Chicago   60827.0   \n",
       "2          Archer Heights      5055 S. Archer Ave.  Chicago   60632.0   \n",
       "3                  Austin        5615 W. Race Ave.  Chicago   60644.0   \n",
       "4           Austin-Irving  6100 W. Irving Park Rd.  Chicago   60634.0   \n",
       "..                    ...                      ...      ...       ...   \n",
       "75           West Pullman         830 W. 119th St.  Chicago   60643.0   \n",
       "76              West Town     1625 W. Chicago Ave.  Chicago   60622.0   \n",
       "77  Whitney M. Young, Jr.         7901 S. King Dr.  Chicago   60619.0   \n",
       "78       Woodson Regional      9525 S. Halsted St.  Chicago   60628.0   \n",
       "79     Wrightwood-Ashburn      8530 S. Kedzie Ave.  Chicago   60652.0   \n",
       "\n",
       "    january  february  march  april    may   june   july  august  september  \\\n",
       "0      8427      7023   9702   9344   8865  11650  11778   11306      10466   \n",
       "1      1258       708    854    804    816    870    713     480        702   \n",
       "2      8104      6899   9329   9124   7472   8314   8116    9177       9033   \n",
       "3      1755      1316   1942   2200   2133   2359   2080    2405       2417   \n",
       "4     12593     11791  14807  14382  11754  14402  14605   15164      14306   \n",
       "..      ...       ...    ...    ...    ...    ...    ...     ...        ...   \n",
       "75     3312      2713   3495   3550   3010   2968   3844    3811       3209   \n",
       "76     9030      7727  10450  10607  10139  10410  10601   11311      11084   \n",
       "77     2588      2033   3099   3087   3005   2911   3123    3644       3547   \n",
       "78    10564      8874  10948   9299   9025  10020  10366   10892      10901   \n",
       "79     3062      2780   3334   3279   3036   3801   4600    3953       3536   \n",
       "\n",
       "    october  november  december     ytd  \n",
       "0     10997     10567      9934  120059  \n",
       "1       927       787       692    9611  \n",
       "2      9709      8809      7865  101951  \n",
       "3      2571      2233      2116   25527  \n",
       "4     15357     14069     12404  165634  \n",
       "..      ...       ...       ...     ...  \n",
       "75     3923      3162      3147   40144  \n",
       "76    10657     10797      9275  122088  \n",
       "77     3848      3324      3190   37399  \n",
       "78    13272     11421      9474  125056  \n",
       "79     4093      3583      3200   42257  \n",
       "\n",
       "[80 rows x 17 columns]"
      ]
     },
     "execution_count": 73,
     "metadata": {},
     "output_type": "execute_result"
    }
   ],
   "source": [
    "# You can start to implement your solutions here ... \n",
    "import pandas as pd\n",
    "df = pd.read_csv('data/2011_circ.csv')\n",
    "df.sort_values(by='branch', ascending=True)"
   ]
  },
  {
   "cell_type": "markdown",
   "metadata": {},
   "source": [
    "TASKS:\n",
    "\n",
    "info(): Zeigt die Struktur des DataFrames.\n",
    "head(): Zeigt die ersten 5 Zeilen.\n",
    "tail(): Zeigt die letzten 5 Zeilen.\n",
    "describe(): Gibt statistische Kennzahlen.\n",
    "columns: Zeigt die Spaltennamen.\n",
    "\n",
    "Beispiele:\n",
    "print(df.info())\n",
    "print(df.head(10))\n",
    "print(df.tail())\n",
    "print(df.describe())\n",
    "print(df.columns)\n",
    "\n",
    "Erste/letzte 10 Zeilen:\n",
    "first_10 = df.head(10)\n",
    "last_10 = df.tail(10)\n",
    "\n",
    "Zeilen 30 bis 40:\n",
    "print(df.iloc[30:41])  \n",
    "\n",
    "Zugriff auf eine bestimmte Spalte (z. B. january):\n",
    "print(df['january'])  \n",
    "print(type(df['january'])) # <class 'pandas.core.series.Series'>\n",
    "\n",
    "Eine .pkl-Datei (Pickle-Datei) speichert Python-Objekte in einer binären Form:\n",
    "df_pkl = pd.read_pickle('data/<filename>.pkl')\n",
    "print(df_pkl)\n",
    "\n",
    "Auswahl basierend auf Labels (z. B. Spaltennamen):\n",
    "specific_rows = df.loc[30:40, ['year', 'branch']]\n",
    "\n",
    "Auswahl basierend auf numerischen Indizes:\n",
    "specific_rows = df.iloc[30:41, [0, 2]]\n",
    "\n",
    "Sortieren von Werten in einer Spalte\n",
    "sorted_df = df.sort_values(by='branch', ascending=True)\n",
    "\n"
   ]
  },
  {
   "cell_type": "markdown",
   "metadata": {},
   "source": [
    "## Setup your Python and Jupyter environment\n",
    "\n",
    "### Step 1: Install Python\n",
    "\n",
    "1.\tDownload Python:\n",
    "\n",
    "- Go to the official Python website.\n",
    "- Download the latest version of Python (e.g., Python 3.x.x) for your operating system (Windows, macOS, or Linux).\n",
    "\n",
    "2.\tInstall Python:  \n",
    "\n",
    "Windows:\n",
    "- Run the downloaded .exe file.\n",
    "- IMPORTANT: During installation, check the box that says “Add Python to PATH”.\n",
    "- Select “Customize installation” (optional, but helpful for control over features).\n",
    "- Complete the installation.\n",
    "  \n",
    "macOS:\n",
    "- Run the .pkg file and follow the instructions.\n",
    "- Alternatively, use the terminal command (requires Homebrew):\n",
    "\n",
    "```\n",
    "brew install python3\n",
    "```\n",
    "\n",
    "Linux:\n",
    "- Use the package manager (e.g., apt for Ubuntu):\n",
    "\n",
    "```\n",
    "sudo apt update\n",
    "sudo apt install python3 python3-pip\n",
    "```\n",
    "\n",
    "3.\tVerify Python Installation:\n",
    "\n",
    "- Open a terminal or command prompt and type:\n",
    "```\n",
    "python --version\n",
    "```\n",
    "\n",
    "This should show the Python version you installed (e.g., Python 3.10.0).\n",
    "\n",
    "### Step 2: Install a Package Manager (pip)\n",
    "\n",
    "pip is the package manager for Python and is usually bundled with Python installations. You can use it to install additional libraries, including Jupyter.\n",
    "\n",
    "1.Verify pip is installed:\n",
    "- Open a terminal or command prompt and type:\n",
    "\n",
    "```\n",
    "pip --version\n",
    "```\n",
    "\n",
    "- If pip is installed, it will display the version.\n",
    "\n",
    "2.\tUpgrade pip (optional):\n",
    "- It’s a good idea to keep pip up-to-date. In the terminal/command prompt, type:\n",
    "\n",
    "```\n",
    "python -m pip install --upgrade pip\n",
    "```\n",
    "\n",
    "### Step 3: Set Up a Virtual Environment (Optional but Recommended)\n",
    "\n",
    "Virtual environments allow you to isolate Python packages and dependencies for different projects.\n",
    "\n",
    "1.\tCreate a virtual environment:\n",
    "\n",
    "Navigate to the directory where you want to set up the environment and run:\n",
    "\n",
    "```\n",
    "python -m venv myenv\n",
    "```\n",
    "\n",
    "This will create a virtual environment named myenv.\n",
    "\n",
    "2. Activate the virtual environment:\n",
    "Windows:\n",
    "\n",
    "```\n",
    "myenv\\Scripts\\activate\n",
    "```\n",
    "\n",
    "- macOS/Linux:\n",
    "\n",
    "```\n",
    "source myenv/bin/activate\n",
    "```\n",
    "\n",
    "3.\tDeactivate the virtual environment: (when you’re done working)\n",
    "\n",
    "```\n",
    "deactivate\n",
    "```\n",
    "\n",
    "\n",
    "### Step 4: Install Jupyter Notebook\n",
    "\n",
    "Jupyter is installed using pip. Once Python (and pip) is set up, Jupyter can be easily installed.\n",
    "\n",
    "1. Install Jupyter:\n",
    "\n",
    "In the terminal or command prompt (and optionally inside your virtual environment), type:\n",
    "\n",
    "```\n",
    "pip install jupyter\n",
    "```\n",
    "\n",
    "2.\tVerify Jupyter Installation:\n",
    "\n",
    "After installation, type:\n",
    "\n",
    "```\n",
    "jupyter --version\n",
    "```\n",
    "\n",
    "This should display the version of Jupyter.\n",
    "\n",
    "### Step 5: Launch Jupyter Notebook\n",
    "\n",
    "1.\tRun Jupyter Notebook:\n",
    "\n",
    "In your terminal/command prompt, type:\n",
    "\n",
    "```\n",
    "jupyter notebook\n",
    "```\n",
    "\n",
    "This will open Jupyter in your default web browser.\n",
    "\n",
    "2.\tCreate a new notebook:\n",
    "- In the Jupyter dashboard (the browser window), click New and select Python 3 to create a new notebook.\n",
    "\n",
    "### Step 6: Install Common Python Packages\n",
    "\n",
    "Install commonly used libraries such as numpy, pandas, and matplotlib.\n",
    "\n",
    "1.\tInstall packages:\n",
    "\n",
    "```\n",
    "pip install numpy pandas matplotlib\n",
    "```\n",
    "\n",
    "2.\tTest packages in Jupyter:\n",
    "- In a new Jupyter notebook, try importing these libraries:\n",
    "\n",
    "```\n",
    "import numpy as np\n",
    "import pandas as pd\n",
    "import matplotlib.pyplot as plt\n",
    "```\n",
    "\n",
    "### Step 7: Configure Jupyter for Better Usage (Optional)\n",
    "\n",
    "You can enhance your Jupyter environment with additional configurations.\n",
    "\n",
    "1.\tJupyterLab (an advanced alternative to Jupyter Notebook):\n",
    "\n",
    "Install JupyterLab:\n",
    "```\n",
    "pip install jupyterlab\n",
    "```\n",
    "\n",
    "Launch JupyterLab by typing:\n",
    "```\n",
    "jupyter lab\n",
    "```\n",
    "\n",
    "2.\tInstall Jupyter Extensions (optional but useful):\n",
    "- Jupyter extensions add useful features like a table of contents, variable inspector, etc.\n",
    "- First, install jupyter_contrib_nbextensions:\n",
    "\n",
    "```\n",
    "pip install jupyter_contrib_nbextensions\n",
    "jupyter contrib nbextension install --user\n",
    "```\n",
    "\n",
    "- Open Jupyter Notebook and enable the desired extensions from the Nbextensions tab.\n",
    "\n",
    "### Step 8: Install Integrated Development Environment (IDE) (Optional)\n",
    "\n",
    "You can install an IDE like VSCode or PyCharm for a better Python development experience.\n",
    "\n",
    "1. Install Visual Studio Code:\n",
    "- Download and install Visual Studio Code.\n",
    "- Install the Python extension from the VSCode marketplace.\n",
    "\n",
    "2. Configure Jupyter in VSCode:\n",
    "- Once the Python extension is installed in VSCode, you can open .ipynb files (Jupyter notebooks) directly in VSCode and run them within the IDE.\n",
    "\n",
    "### Step 9: Explore and Test\n",
    "\n",
    "Your environment is now ready! Explore Python in Jupyter by writing and running simple code snippets, installing additional libraries as needed for specific projects, and trying out new features.\n",
    "\n",
    "Troubleshooting Tips:\n",
    "\n",
    "- Python not recognized: Ensure Python is added to your system’s PATH. On Windows, you can manually add it if you didn’t check the option during installation.\n",
    "- Permission errors: Run commands with sudo on macOS/Linux or as an administrator on Windows if you encounter permission issues.\n",
    "- Kernel issues in Jupyter: If you have multiple Python versions, ensure the correct Python environment is linked to Jupyter using the command python -m ipykernel install --user --name=myenv for the correct virtual environment."
   ]
  }
 ],
 "metadata": {
  "kernelspec": {
   "display_name": ".venv",
   "language": "python",
   "name": "python3"
  },
  "language_info": {
   "codemirror_mode": {
    "name": "ipython",
    "version": 3
   },
   "file_extension": ".py",
   "mimetype": "text/x-python",
   "name": "python",
   "nbconvert_exporter": "python",
   "pygments_lexer": "ipython3",
   "version": "3.11.7"
  }
 },
 "nbformat": 4,
 "nbformat_minor": 2
}
